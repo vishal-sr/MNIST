{
  "nbformat": 4,
  "nbformat_minor": 0,
  "metadata": {
    "colab": {
      "name": "Tensorflow-CNN.ipynb",
      "provenance": [],
      "collapsed_sections": []
    },
    "kernelspec": {
      "name": "python3",
      "display_name": "Python 3"
    },
    "accelerator": "GPU"
  },
  "cells": [
    {
      "cell_type": "markdown",
      "metadata": {
        "id": "im_SBe5bd_v2",
        "colab_type": "text"
      },
      "source": [
        "# ***Solving MNIST dataset with CNN using Tensorflow***"
      ]
    },
    {
      "cell_type": "markdown",
      "metadata": {
        "id": "V4hOzV8GehCY",
        "colab_type": "text"
      },
      "source": [
        "### **Importing dependencies for data visualization**"
      ]
    },
    {
      "cell_type": "code",
      "metadata": {
        "id": "5pK7nnNNKDFS",
        "colab_type": "code",
        "colab": {
          "base_uri": "https://localhost:8080/",
          "height": 72
        },
        "outputId": "69cb7912-516e-40a5-d31f-e1072a61eb5d"
      },
      "source": [
        "import pandas as pd\n",
        "import matplotlib.pyplot as plt\n",
        "import seaborn as sns"
      ],
      "execution_count": 1,
      "outputs": [
        {
          "output_type": "stream",
          "text": [
            "/usr/local/lib/python3.6/dist-packages/statsmodels/tools/_testing.py:19: FutureWarning: pandas.util.testing is deprecated. Use the functions in the public API at pandas.testing instead.\n",
            "  import pandas.util.testing as tm\n"
          ],
          "name": "stderr"
        }
      ]
    },
    {
      "cell_type": "code",
      "metadata": {
        "id": "IMurRraLKVM4",
        "colab_type": "code",
        "colab": {}
      },
      "source": [
        "sns.set_style(\"darkgrid\")"
      ],
      "execution_count": 2,
      "outputs": []
    },
    {
      "cell_type": "markdown",
      "metadata": {
        "id": "a6114jc3erav",
        "colab_type": "text"
      },
      "source": [
        "### **Importing machine learning (deep learning) framework**"
      ]
    },
    {
      "cell_type": "code",
      "metadata": {
        "id": "wURtdHu-KYQU",
        "colab_type": "code",
        "colab": {}
      },
      "source": [
        "import tensorflow as tf\n",
        "from tensorflow.keras.datasets import mnist #importing mnist dataset from tensorflow.keras"
      ],
      "execution_count": 3,
      "outputs": []
    },
    {
      "cell_type": "markdown",
      "metadata": {
        "id": "LrXAmGCje5l0",
        "colab_type": "text"
      },
      "source": [
        "loading dataset"
      ]
    },
    {
      "cell_type": "code",
      "metadata": {
        "id": "Mm69eh_7KnHF",
        "colab_type": "code",
        "colab": {}
      },
      "source": [
        "(X_train, y_train), (X_test, y_test) = mnist.load_data()"
      ],
      "execution_count": 4,
      "outputs": []
    },
    {
      "cell_type": "markdown",
      "metadata": {
        "id": "0aKou_ZXfWxl",
        "colab_type": "text"
      },
      "source": [
        "fetching single image from the dataset"
      ]
    },
    {
      "cell_type": "code",
      "metadata": {
        "id": "tzNGRu6OKwCX",
        "colab_type": "code",
        "colab": {
          "base_uri": "https://localhost:8080/",
          "height": 265
        },
        "outputId": "5d242cff-a88f-4a07-f3b2-6345976205eb"
      },
      "source": [
        "single_img = X_train[0]\n",
        "plt.imshow(single_img, cmap = 'gray')\n",
        "plt.show()"
      ],
      "execution_count": 5,
      "outputs": [
        {
          "output_type": "display_data",
          "data": {
            "image/png": "[encoded data removed]",
            "text/plain": [
              "<Figure size 432x288 with 1 Axes>"
            ]
          },
          "metadata": {
            "tags": []
          }
        }
      ]
    },
    {
      "cell_type": "code",
      "metadata": {
        "id": "96zZWN9YLiGr",
        "colab_type": "code",
        "colab": {
          "base_uri": "https://localhost:8080/",
          "height": 35
        },
        "outputId": "878c8c7b-4fe4-4238-e379-d008e39b76fb"
      },
      "source": [
        "y_train[0] #label for above image"
      ],
      "execution_count": 6,
      "outputs": [
        {
          "output_type": "execute_result",
          "data": {
            "text/plain": [
              "5"
            ]
          },
          "metadata": {
            "tags": []
          },
          "execution_count": 6
        }
      ]
    },
    {
      "cell_type": "markdown",
      "metadata": {
        "id": "jgdPE40cfnLP",
        "colab_type": "text"
      },
      "source": [
        "## **Data preprocessing**"
      ]
    },
    {
      "cell_type": "code",
      "metadata": {
        "id": "DWGoU-SVUYnk",
        "colab_type": "code",
        "colab": {}
      },
      "source": [
        "from tensorflow.keras.utils import to_categorical"
      ],
      "execution_count": 7,
      "outputs": []
    },
    {
      "cell_type": "markdown",
      "metadata": {
        "id": "8ySt5ViFfq41",
        "colab_type": "text"
      },
      "source": [
        "Making labels as OneHot vectors"
      ]
    },
    {
      "cell_type": "code",
      "metadata": {
        "id": "zJCM5gdwUhia",
        "colab_type": "code",
        "colab": {}
      },
      "source": [
        "y_train = to_categorical(y_train)\n",
        "y_test = to_categorical(y_test)"
      ],
      "execution_count": 8,
      "outputs": []
    },
    {
      "cell_type": "markdown",
      "metadata": {
        "id": "GhooiF_vfuf1",
        "colab_type": "text"
      },
      "source": [
        "Scaling the dataset from [0, 1]"
      ]
    },
    {
      "cell_type": "code",
      "metadata": {
        "id": "XdduXTY4Uo-Y",
        "colab_type": "code",
        "colab": {}
      },
      "source": [
        "X_train = X_train / 255.0\n",
        "X_test = X_test / 255.0"
      ],
      "execution_count": 9,
      "outputs": []
    },
    {
      "cell_type": "markdown",
      "metadata": {
        "id": "xVVM1VSifxXQ",
        "colab_type": "text"
      },
      "source": [
        "Reshaping the dataset "
      ]
    },
    {
      "cell_type": "code",
      "metadata": {
        "id": "iHcvMWGcUwRD",
        "colab_type": "code",
        "colab": {}
      },
      "source": [
        "X_train = X_train.reshape(60000, 28, 28, 1)\n",
        "X_test = X_test.reshape(10000, 28, 28, 1)"
      ],
      "execution_count": 10,
      "outputs": []
    },
    {
      "cell_type": "markdown",
      "metadata": {
        "id": "lZctDLkRf1P_",
        "colab_type": "text"
      },
      "source": [
        "## **GPU check**"
      ]
    },
    {
      "cell_type": "code",
      "metadata": {
        "id": "b4HnTaYJVGNx",
        "colab_type": "code",
        "colab": {
          "base_uri": "https://localhost:8080/",
          "height": 35
        },
        "outputId": "c99968c9-e5f9-4f27-f205-cf6a66efb675"
      },
      "source": [
        "device = tf.test.gpu_device_name()\n",
        "if device != '/device:GPU:0':\n",
        "  raise SystemError('GPU device not found')\n",
        "print(f'Device found at {device}')"
      ],
      "execution_count": 11,
      "outputs": [
        {
          "output_type": "stream",
          "text": [
            "Device found at /device:GPU:0\n"
          ],
          "name": "stdout"
        }
      ]
    },
    {
      "cell_type": "markdown",
      "metadata": {
        "id": "Mhlj9bhYf4oC",
        "colab_type": "text"
      },
      "source": [
        "## **Building model**"
      ]
    },
    {
      "cell_type": "code",
      "metadata": {
        "id": "k5dpZOrELpET",
        "colab_type": "code",
        "colab": {}
      },
      "source": [
        "from tensorflow.keras.models import Sequential\n",
        "from tensorflow.keras.layers import Conv2D, MaxPool2D, Flatten, Dense, Dropout, BatchNormalization\n",
        "from tensorflow.keras.callbacks import EarlyStopping"
      ],
      "execution_count": 12,
      "outputs": []
    },
    {
      "cell_type": "code",
      "metadata": {
        "id": "fKhya5tNf5hr",
        "colab_type": "code",
        "colab": {}
      },
      "source": [
        "import time"
      ],
      "execution_count": 13,
      "outputs": []
    },
    {
      "cell_type": "code",
      "metadata": {
        "id": "5_Pd0dY8Q1_E",
        "colab_type": "code",
        "colab": {
          "base_uri": "https://localhost:8080/",
          "height": 503
        },
        "outputId": "755f8243-397f-4b60-93a1-2b6ccafe9d24"
      },
      "source": [
        "early_stop = EarlyStopping(    # to monitor the growth of validation loss\n",
        "    monitor = 'val_loss',\n",
        "    mode = 'min',\n",
        "    patience = 2\n",
        ")\n",
        "\n",
        "with tf.device('/gpu:0'):\n",
        "  model = Sequential([\n",
        "                      Conv2D(filters = 32, kernel_size = (3, 3), strides = (1, 1), padding = 'valid', activation = 'relu'),\n",
        "                      MaxPool2D(pool_size = (2, 2)),\n",
        "\n",
        "                      Conv2D(filters = 64, kernel_size = (3, 3), strides = (1, 1), padding = 'valid', activation = 'relu'),\n",
        "                      MaxPool2D(pool_size = (2, 2)),\n",
        "\n",
        "                      Flatten(),\n",
        "\n",
        "                      Dense(units = 128, activation = 'relu'),\n",
        "                      Dropout(rate = 0.2),\n",
        "\n",
        "                      Dense(units = 10, activation = 'softmax')\n",
        "  ])\n",
        "  print('Model Built Success!')\n",
        "\n",
        "  model.compile(\n",
        "      optimizer = 'adam',\n",
        "      loss = 'categorical_crossentropy',\n",
        "      metrics = ['accuracy']\n",
        "  )\n",
        "\n",
        "  stime = time.time() # starting time \n",
        "\n",
        "  model.fit(\n",
        "      x = X_train,\n",
        "      y = y_train,\n",
        "      batch_size = 128,\n",
        "      epochs = 25,\n",
        "      validation_data = (X_test, y_test),\n",
        "      callbacks = [early_stop]\n",
        "  )\n",
        "\n",
        "  ftime = time.time() # finishing time\n",
        "  ttime = ftime - stime\n",
        "\n",
        "  print(f'\\n\\nModel Trained Successfully!. Time Taken : {round(ttime, 2)}s')"
      ],
      "execution_count": 14,
      "outputs": [
        {
          "output_type": "stream",
          "text": [
            "Model Built Success!\n",
            "Epoch 1/25\n",
            "469/469 [==============================] - 3s 5ms/step - loss: 0.2209 - accuracy: 0.9317 - val_loss: 0.0606 - val_accuracy: 0.9801\n",
            "Epoch 2/25\n",
            "469/469 [==============================] - 2s 5ms/step - loss: 0.0657 - accuracy: 0.9797 - val_loss: 0.0371 - val_accuracy: 0.9870\n",
            "Epoch 3/25\n",
            "469/469 [==============================] - 2s 5ms/step - loss: 0.0463 - accuracy: 0.9856 - val_loss: 0.0340 - val_accuracy: 0.9890\n",
            "Epoch 4/25\n",
            "469/469 [==============================] - 2s 5ms/step - loss: 0.0351 - accuracy: 0.9894 - val_loss: 0.0293 - val_accuracy: 0.9901\n",
            "Epoch 5/25\n",
            "469/469 [==============================] - 2s 5ms/step - loss: 0.0279 - accuracy: 0.9911 - val_loss: 0.0252 - val_accuracy: 0.9907\n",
            "Epoch 6/25\n",
            "469/469 [==============================] - 2s 5ms/step - loss: 0.0241 - accuracy: 0.9924 - val_loss: 0.0251 - val_accuracy: 0.9914\n",
            "Epoch 7/25\n",
            "469/469 [==============================] - 2s 5ms/step - loss: 0.0205 - accuracy: 0.9937 - val_loss: 0.0258 - val_accuracy: 0.9913\n",
            "Epoch 8/25\n",
            "469/469 [==============================] - 2s 5ms/step - loss: 0.0170 - accuracy: 0.9946 - val_loss: 0.0250 - val_accuracy: 0.9918\n",
            "Epoch 9/25\n",
            "469/469 [==============================] - 2s 5ms/step - loss: 0.0142 - accuracy: 0.9956 - val_loss: 0.0266 - val_accuracy: 0.9923\n",
            "Epoch 10/25\n",
            "469/469 [==============================] - 2s 5ms/step - loss: 0.0133 - accuracy: 0.9956 - val_loss: 0.0238 - val_accuracy: 0.9926\n",
            "Epoch 11/25\n",
            "469/469 [==============================] - 2s 5ms/step - loss: 0.0108 - accuracy: 0.9961 - val_loss: 0.0305 - val_accuracy: 0.9906\n",
            "Epoch 12/25\n",
            "469/469 [==============================] - 2s 5ms/step - loss: 0.0099 - accuracy: 0.9965 - val_loss: 0.0253 - val_accuracy: 0.9928\n",
            "\n",
            "\n",
            "Model Trained Successfully!. Time Taken : 30.02s\n"
          ],
          "name": "stdout"
        }
      ]
    },
    {
      "cell_type": "code",
      "metadata": {
        "id": "qJFqbdFzpjSC",
        "colab_type": "code",
        "colab": {
          "base_uri": "https://localhost:8080/",
          "height": 433
        },
        "outputId": "d1422592-278b-4bdb-ddf3-479565dbf8ca"
      },
      "source": [
        "model.summary()"
      ],
      "execution_count": 15,
      "outputs": [
        {
          "output_type": "stream",
          "text": [
            "Model: \"sequential\"\n",
            "_________________________________________________________________\n",
            "Layer (type)                 Output Shape              Param #   \n",
            "=================================================================\n",
            "conv2d (Conv2D)              (None, 26, 26, 32)        320       \n",
            "_________________________________________________________________\n",
            "max_pooling2d (MaxPooling2D) (None, 13, 13, 32)        0         \n",
            "_________________________________________________________________\n",
            "conv2d_1 (Conv2D)            (None, 11, 11, 64)        18496     \n",
            "_________________________________________________________________\n",
            "max_pooling2d_1 (MaxPooling2 (None, 5, 5, 64)          0         \n",
            "_________________________________________________________________\n",
            "flatten (Flatten)            (None, 1600)              0         \n",
            "_________________________________________________________________\n",
            "dense (Dense)                (None, 128)               204928    \n",
            "_________________________________________________________________\n",
            "dropout (Dropout)            (None, 128)               0         \n",
            "_________________________________________________________________\n",
            "dense_1 (Dense)              (None, 10)                1290      \n",
            "=================================================================\n",
            "Total params: 225,034\n",
            "Trainable params: 225,034\n",
            "Non-trainable params: 0\n",
            "_________________________________________________________________\n"
          ],
          "name": "stdout"
        }
      ]
    },
    {
      "cell_type": "markdown",
      "metadata": {
        "id": "pmx67FLQf--_",
        "colab_type": "text"
      },
      "source": [
        "## **Model evaluation**"
      ]
    },
    {
      "cell_type": "code",
      "metadata": {
        "id": "Z9AyNn7Ka0pX",
        "colab_type": "code",
        "colab": {}
      },
      "source": [
        "history = pd.DataFrame(model.history.history)\n",
        "loss = history[['val_loss', 'loss']]\n",
        "accuracy = history[['val_accuracy', 'accuracy']]"
      ],
      "execution_count": 16,
      "outputs": []
    },
    {
      "cell_type": "code",
      "metadata": {
        "id": "dijo-Db2aIKG",
        "colab_type": "code",
        "colab": {
          "base_uri": "https://localhost:8080/",
          "height": 283
        },
        "outputId": "78feffac-5525-409f-98d1-37e0ff500783"
      },
      "source": [
        "loss.plot()"
      ],
      "execution_count": 17,
      "outputs": [
        {
          "output_type": "execute_result",
          "data": {
            "text/plain": [
              "<matplotlib.axes._subplots.AxesSubplot at 0x7f6a543f97b8>"
            ]
          },
          "metadata": {
            "tags": []
          },
          "execution_count": 17
        },
        {
          "output_type": "display_data",
          "data": {
            "image/png": "[encoded data removed]",
            "text/plain": [
              "<Figure size 432x288 with 1 Axes>"
            ]
          },
          "metadata": {
            "tags": []
          }
        }
      ]
    },
    {
      "cell_type": "code",
      "metadata": {
        "id": "MY2W_aS7aOVd",
        "colab_type": "code",
        "colab": {
          "base_uri": "https://localhost:8080/",
          "height": 283
        },
        "outputId": "28f3462e-0664-479d-f57b-cecce1cf19d3"
      },
      "source": [
        "accuracy.plot()"
      ],
      "execution_count": 18,
      "outputs": [
        {
          "output_type": "execute_result",
          "data": {
            "text/plain": [
              "<matplotlib.axes._subplots.AxesSubplot at 0x7f6a5432b710>"
            ]
          },
          "metadata": {
            "tags": []
          },
          "execution_count": 18
        },
        {
          "output_type": "display_data",
          "data": {
            "image/png": "[encoded data removed]",
            "text/plain": [
              "<Figure size 432x288 with 1 Axes>"
            ]
          },
          "metadata": {
            "tags": []
          }
        }
      ]
    }
  ]
}