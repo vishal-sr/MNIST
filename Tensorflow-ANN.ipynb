{
  "nbformat": 4,
  "nbformat_minor": 0,
  "metadata": {
    "colab": {
      "name": "Tensorflow-ANN.ipynb",
      "provenance": [],
      "collapsed_sections": []
    },
    "kernelspec": {
      "name": "python3",
      "display_name": "Python 3"
    },
    "accelerator": "GPU"
  },
  "cells": [
    {
      "cell_type": "markdown",
      "metadata": {
        "id": "pE_AbgwF70Ri",
        "colab_type": "text"
      },
      "source": [
        "## ***Solving MNIST dataset with ANN using Tensorflow***"
      ]
    },
    {
      "cell_type": "markdown",
      "metadata": {
        "id": "7aq4K5jH8El7",
        "colab_type": "text"
      },
      "source": [
        "### **Importing dependencies for data visualization**"
      ]
    },
    {
      "cell_type": "code",
      "metadata": {
        "id": "HfDqy2G5syGQ",
        "colab_type": "code",
        "colab": {
          "base_uri": "https://localhost:8080/",
          "height": 72
        },
        "outputId": "41b3aedb-d7d7-4a78-c709-987f586e7abd"
      },
      "source": [
        "import matplotlib.pyplot as plt\n",
        "import pandas as pd\n",
        "import seaborn as sns"
      ],
      "execution_count": 1,
      "outputs": [
        {
          "output_type": "stream",
          "text": [
            "/usr/local/lib/python3.6/dist-packages/statsmodels/tools/_testing.py:19: FutureWarning: pandas.util.testing is deprecated. Use the functions in the public API at pandas.testing instead.\n",
            "  import pandas.util.testing as tm\n"
          ],
          "name": "stderr"
        }
      ]
    },
    {
      "cell_type": "code",
      "metadata": {
        "id": "GgDa6um_1dHj",
        "colab_type": "code",
        "colab": {}
      },
      "source": [
        "sns.set_style(\"darkgrid\")"
      ],
      "execution_count": 2,
      "outputs": []
    },
    {
      "cell_type": "markdown",
      "metadata": {
        "id": "tfX7m8lm8vZH",
        "colab_type": "text"
      },
      "source": [
        "### **Importing machine learning (deep learning) framework**"
      ]
    },
    {
      "cell_type": "code",
      "metadata": {
        "id": "bqyH-x_NtcEw",
        "colab_type": "code",
        "colab": {}
      },
      "source": [
        "import tensorflow as tf\n",
        "from tensorflow.keras.datasets import mnist #importing mnist dataset from tensorflow.keras"
      ],
      "execution_count": 3,
      "outputs": []
    },
    {
      "cell_type": "markdown",
      "metadata": {
        "id": "k_8ca4C_89gJ",
        "colab_type": "text"
      },
      "source": [
        "loading dataset"
      ]
    },
    {
      "cell_type": "code",
      "metadata": {
        "id": "i_V0Qr0fuW7V",
        "colab_type": "code",
        "colab": {}
      },
      "source": [
        "(X_train, y_train), (X_test, y_test) = mnist.load_data()"
      ],
      "execution_count": 4,
      "outputs": []
    },
    {
      "cell_type": "markdown",
      "metadata": {
        "id": "jIdZrb8k9Xmh",
        "colab_type": "text"
      },
      "source": [
        "fetching single image from the dataset"
      ]
    },
    {
      "cell_type": "code",
      "metadata": {
        "id": "PgO5aKHExBuB",
        "colab_type": "code",
        "colab": {
          "base_uri": "https://localhost:8080/",
          "height": 265
        },
        "outputId": "e382f05e-f510-4340-b541-628b8c05f110"
      },
      "source": [
        "single_img = X_train[0]\n",
        "plt.imshow(X = single_img, cmap = 'gray')\n",
        "plt.show()"
      ],
      "execution_count": 5,
      "outputs": [
        {
          "output_type": "display_data",
          "data": {
            "image/png": "[encoded data removed]",
            "text/plain": [
              "<Figure size 432x288 with 1 Axes>"
            ]
          },
          "metadata": {
            "tags": []
          }
        }
      ]
    },
    {
      "cell_type": "code",
      "metadata": {
        "id": "0SQVe6EY0OpA",
        "colab_type": "code",
        "colab": {
          "base_uri": "https://localhost:8080/",
          "height": 35
        },
        "outputId": "54039114-51e7-49bf-ad5a-d17f68e4e669"
      },
      "source": [
        "y_train[0] #label for above image"
      ],
      "execution_count": 6,
      "outputs": [
        {
          "output_type": "execute_result",
          "data": {
            "text/plain": [
              "5"
            ]
          },
          "metadata": {
            "tags": []
          },
          "execution_count": 6
        }
      ]
    },
    {
      "cell_type": "markdown",
      "metadata": {
        "id": "PnzS5sM39vmd",
        "colab_type": "text"
      },
      "source": [
        "## **Data preprocessing**"
      ]
    },
    {
      "cell_type": "code",
      "metadata": {
        "id": "QUKHKGY-033D",
        "colab_type": "code",
        "colab": {}
      },
      "source": [
        "from tensorflow.keras.utils import to_categorical"
      ],
      "execution_count": 7,
      "outputs": []
    },
    {
      "cell_type": "markdown",
      "metadata": {
        "id": "CSglT4dh-GY5",
        "colab_type": "text"
      },
      "source": [
        "Making labels as OneHot vectors"
      ]
    },
    {
      "cell_type": "code",
      "metadata": {
        "id": "-oNKBDmb1rEy",
        "colab_type": "code",
        "colab": {}
      },
      "source": [
        "y_train = to_categorical(y_train)\n",
        "y_test = to_categorical(y_test)"
      ],
      "execution_count": 8,
      "outputs": []
    },
    {
      "cell_type": "markdown",
      "metadata": {
        "id": "35rDK3hP-iwN",
        "colab_type": "text"
      },
      "source": [
        "Scaling the dataset from [0, 1]"
      ]
    },
    {
      "cell_type": "code",
      "metadata": {
        "id": "luXAit0U1rRx",
        "colab_type": "code",
        "colab": {}
      },
      "source": [
        "X_train = X_train / 255.0\n",
        "X_test = X_test / 255.0"
      ],
      "execution_count": 9,
      "outputs": []
    },
    {
      "cell_type": "markdown",
      "metadata": {
        "id": "j6aPYXARHwT4",
        "colab_type": "text"
      },
      "source": [
        "Reshaping the dataset "
      ]
    },
    {
      "cell_type": "code",
      "metadata": {
        "id": "uSSMZmvt2NeQ",
        "colab_type": "code",
        "colab": {}
      },
      "source": [
        "X_train = X_train.reshape(60000, 28, 28, 1)\n",
        "X_test = X_test.reshape(10000, 28, 28, 1)"
      ],
      "execution_count": 10,
      "outputs": []
    },
    {
      "cell_type": "markdown",
      "metadata": {
        "id": "j-IEq62P-p1n",
        "colab_type": "text"
      },
      "source": [
        "## **GPU check**"
      ]
    },
    {
      "cell_type": "code",
      "metadata": {
        "id": "JqWF_O6ZxE5J",
        "colab_type": "code",
        "colab": {
          "base_uri": "https://localhost:8080/",
          "height": 35
        },
        "outputId": "854d1a7d-9cfc-4e29-c4bd-6ddfb1f115c6"
      },
      "source": [
        "device = tf.test.gpu_device_name()\n",
        "if device != '/device:GPU:0':\n",
        "  raise SystemError('GPU device not found')\n",
        "print(f'Found GPU at: {device}')"
      ],
      "execution_count": 11,
      "outputs": [
        {
          "output_type": "stream",
          "text": [
            "Found GPU at: /device:GPU:0\n"
          ],
          "name": "stdout"
        }
      ]
    },
    {
      "cell_type": "markdown",
      "metadata": {
        "id": "VEsrGTu6-03N",
        "colab_type": "text"
      },
      "source": [
        "## **Building model**"
      ]
    },
    {
      "cell_type": "code",
      "metadata": {
        "id": "P72oDBisyrOr",
        "colab_type": "code",
        "colab": {}
      },
      "source": [
        "from tensorflow.keras.models import Sequential\n",
        "from tensorflow.keras.layers import Dense, Flatten, Dropout\n",
        "from tensorflow.keras.callbacks import EarlyStopping"
      ],
      "execution_count": 12,
      "outputs": []
    },
    {
      "cell_type": "code",
      "metadata": {
        "id": "Txz6UFx84XDT",
        "colab_type": "code",
        "colab": {
          "base_uri": "https://localhost:8080/",
          "height": 468
        },
        "outputId": "6392b4f4-3d58-432f-f155-cd6733f272e8"
      },
      "source": [
        "early_stop = EarlyStopping(     # to monitor the growth of validation loss\n",
        "    monitor = 'val_loss', \n",
        "    mode = 'min', \n",
        "    patience = 3\n",
        ")\n",
        "\n",
        "with tf.device('/gpu:0'):\n",
        "\n",
        "  model = Sequential([\n",
        "      Flatten(input_shape = (28, 28)),\n",
        "      Dense(units = 128, activation = 'relu'),\n",
        "      Dropout(rate = 0.2),\n",
        "      Dense(units = 128, activation = 'relu'),\n",
        "      Dropout(rate = 0.2),\n",
        "      Dense(units = 10, activation = 'softmax')\n",
        "  ])\n",
        "\n",
        "  model.compile(\n",
        "      optimizer = 'adam', \n",
        "      loss = 'categorical_crossentropy', \n",
        "      metrics = ['accuracy']\n",
        "  )\n",
        "  \n",
        "  model.fit(\n",
        "      x = X_train, \n",
        "      y = y_train, \n",
        "      batch_size = 128, \n",
        "      epochs = 25, \n",
        "      validation_data = (X_test, y_test),\n",
        "      callbacks = [early_stop]\n",
        "  )\n",
        "  print(\"\\nModel trained !!!\")"
      ],
      "execution_count": 13,
      "outputs": [
        {
          "output_type": "stream",
          "text": [
            "Epoch 1/25\n",
            "469/469 [==============================] - 2s 3ms/step - loss: 0.4048 - accuracy: 0.8796 - val_loss: 0.1559 - val_accuracy: 0.9529\n",
            "Epoch 2/25\n",
            "469/469 [==============================] - 1s 3ms/step - loss: 0.1748 - accuracy: 0.9481 - val_loss: 0.1166 - val_accuracy: 0.9656\n",
            "Epoch 3/25\n",
            "469/469 [==============================] - 1s 3ms/step - loss: 0.1330 - accuracy: 0.9596 - val_loss: 0.0909 - val_accuracy: 0.9718\n",
            "Epoch 4/25\n",
            "469/469 [==============================] - 1s 3ms/step - loss: 0.1104 - accuracy: 0.9662 - val_loss: 0.0823 - val_accuracy: 0.9762\n",
            "Epoch 5/25\n",
            "469/469 [==============================] - 1s 3ms/step - loss: 0.0928 - accuracy: 0.9717 - val_loss: 0.0751 - val_accuracy: 0.9772\n",
            "Epoch 6/25\n",
            "469/469 [==============================] - 1s 3ms/step - loss: 0.0813 - accuracy: 0.9740 - val_loss: 0.0703 - val_accuracy: 0.9794\n",
            "Epoch 7/25\n",
            "469/469 [==============================] - 1s 3ms/step - loss: 0.0734 - accuracy: 0.9767 - val_loss: 0.0669 - val_accuracy: 0.9793\n",
            "Epoch 8/25\n",
            "469/469 [==============================] - 1s 3ms/step - loss: 0.0645 - accuracy: 0.9788 - val_loss: 0.0700 - val_accuracy: 0.9781\n",
            "Epoch 9/25\n",
            "469/469 [==============================] - 1s 3ms/step - loss: 0.0601 - accuracy: 0.9806 - val_loss: 0.0631 - val_accuracy: 0.9807\n",
            "Epoch 10/25\n",
            "469/469 [==============================] - 1s 3ms/step - loss: 0.0552 - accuracy: 0.9812 - val_loss: 0.0674 - val_accuracy: 0.9804\n",
            "Epoch 11/25\n",
            "469/469 [==============================] - 1s 3ms/step - loss: 0.0517 - accuracy: 0.9833 - val_loss: 0.0655 - val_accuracy: 0.9803\n",
            "Epoch 12/25\n",
            "469/469 [==============================] - 1s 3ms/step - loss: 0.0492 - accuracy: 0.9840 - val_loss: 0.0672 - val_accuracy: 0.9808\n",
            "\n",
            "Model trained !!!\n"
          ],
          "name": "stdout"
        }
      ]
    },
    {
      "cell_type": "code",
      "metadata": {
        "id": "GTMmHRJH7v5z",
        "colab_type": "code",
        "colab": {
          "base_uri": "https://localhost:8080/",
          "height": 364
        },
        "outputId": "dd02dfa5-e350-48f5-9970-74e1f8365881"
      },
      "source": [
        "model.summary()"
      ],
      "execution_count": 14,
      "outputs": [
        {
          "output_type": "stream",
          "text": [
            "Model: \"sequential\"\n",
            "_________________________________________________________________\n",
            "Layer (type)                 Output Shape              Param #   \n",
            "=================================================================\n",
            "flatten (Flatten)            (None, 784)               0         \n",
            "_________________________________________________________________\n",
            "dense (Dense)                (None, 128)               100480    \n",
            "_________________________________________________________________\n",
            "dropout (Dropout)            (None, 128)               0         \n",
            "_________________________________________________________________\n",
            "dense_1 (Dense)              (None, 128)               16512     \n",
            "_________________________________________________________________\n",
            "dropout_1 (Dropout)          (None, 128)               0         \n",
            "_________________________________________________________________\n",
            "dense_2 (Dense)              (None, 10)                1290      \n",
            "=================================================================\n",
            "Total params: 118,282\n",
            "Trainable params: 118,282\n",
            "Non-trainable params: 0\n",
            "_________________________________________________________________\n"
          ],
          "name": "stdout"
        }
      ]
    },
    {
      "cell_type": "markdown",
      "metadata": {
        "id": "j4x3ESLk_tf0",
        "colab_type": "text"
      },
      "source": [
        "## **Model evaluation**"
      ]
    },
    {
      "cell_type": "code",
      "metadata": {
        "id": "FKrSWdFT8yiH",
        "colab_type": "code",
        "colab": {}
      },
      "source": [
        "history = pd.DataFrame(model.history.history)\n",
        "losses = history[['loss', 'val_loss']]\n",
        "accuracy = history[['accuracy', 'val_accuracy']]"
      ],
      "execution_count": 15,
      "outputs": []
    },
    {
      "cell_type": "code",
      "metadata": {
        "id": "A0FpltMg8zvX",
        "colab_type": "code",
        "colab": {
          "base_uri": "https://localhost:8080/",
          "height": 283
        },
        "outputId": "b2b933d3-8d06-4179-a41b-6680aec08b33"
      },
      "source": [
        "losses.plot()"
      ],
      "execution_count": 16,
      "outputs": [
        {
          "output_type": "execute_result",
          "data": {
            "text/plain": [
              "<matplotlib.axes._subplots.AxesSubplot at 0x7f2080011b00>"
            ]
          },
          "metadata": {
            "tags": []
          },
          "execution_count": 16
        },
        {
          "output_type": "display_data",
          "data": {
            "image/png": "[encoded data removed]",
            "text/plain": [
              "<Figure size 432x288 with 1 Axes>"
            ]
          },
          "metadata": {
            "tags": []
          }
        }
      ]
    },
    {
      "cell_type": "code",
      "metadata": {
        "id": "VTqAAbdF9B4O",
        "colab_type": "code",
        "colab": {
          "base_uri": "https://localhost:8080/",
          "height": 283
        },
        "outputId": "de14f0a3-79b1-4ff8-94bf-b1042576803b"
      },
      "source": [
        "accuracy.plot()"
      ],
      "execution_count": 17,
      "outputs": [
        {
          "output_type": "execute_result",
          "data": {
            "text/plain": [
              "<matplotlib.axes._subplots.AxesSubplot at 0x7f20bd9861d0>"
            ]
          },
          "metadata": {
            "tags": []
          },
          "execution_count": 17
        },
        {
          "output_type": "display_data",
          "data": {
            "image/png": "[encoded data removed]",
            "text/plain": [
              "<Figure size 432x288 with 1 Axes>"
            ]
          },
          "metadata": {
            "tags": []
          }
        }
      ]
    }
  ]
}